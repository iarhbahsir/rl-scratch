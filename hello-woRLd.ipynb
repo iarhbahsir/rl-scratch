{
 "cells": [
  {
   "cell_type": "markdown",
   "metadata": {},
   "source": [
    "# Trying out basic openai gym and stable baselines stuff"
   ]
  },
  {
   "cell_type": "markdown",
   "metadata": {},
   "source": [
    "## Let's start with some code based off the snippet in the stable baselines readme:"
   ]
  },
  {
   "cell_type": "markdown",
   "metadata": {},
   "source": [
    "Create an environment for CartPole-v1"
   ]
  },
  {
   "cell_type": "code",
   "execution_count": 1,
   "metadata": {},
   "outputs": [],
   "source": [
    "import gym\n",
    "\n",
    "from stable_baselines.common.policies import MlpPolicy\n",
    "from stable_baselines.common.vec_env import DummyVecEnv\n",
    "from stable_baselines.ppo2 import PPO2\n",
    "\n",
    "env_cartpole = gym.make('CartPole-v1')\n",
    "env_cartpole = DummyVecEnv([lambda: env_cartpole])  #` The algorithms require a vectorized environment to run"
   ]
  },
  {
   "cell_type": "markdown",
   "metadata": {},
   "source": [
    "Use PPO2 (just because it was in the example) to train an agent, and keep track of how many steps each run lasts. There's a lot of output, so we'll set verbosity to 0. "
   ]
  },
  {
   "cell_type": "code",
   "execution_count": 2,
   "metadata": {},
   "outputs": [
    {
     "name": "stderr",
     "output_type": "stream",
     "text": [
      "WARNING: Logging before flag parsing goes to stderr.\n",
      "W0814 21:31:29.220499 140328486889280 deprecation_wrapper.py:119] From /home/rishabh/anaconda3/envs/rl-env/lib/python3.7/site-packages/stable_baselines/common/tf_util.py:98: The name tf.ConfigProto is deprecated. Please use tf.compat.v1.ConfigProto instead.\n",
      "\n",
      "W0814 21:31:29.222148 140328486889280 deprecation_wrapper.py:119] From /home/rishabh/anaconda3/envs/rl-env/lib/python3.7/site-packages/stable_baselines/common/tf_util.py:107: The name tf.Session is deprecated. Please use tf.compat.v1.Session instead.\n",
      "\n",
      "W0814 21:31:29.512462 140328486889280 deprecation_wrapper.py:119] From /home/rishabh/anaconda3/envs/rl-env/lib/python3.7/site-packages/stable_baselines/common/policies.py:115: The name tf.variable_scope is deprecated. Please use tf.compat.v1.variable_scope instead.\n",
      "\n",
      "W0814 21:31:29.513362 140328486889280 deprecation_wrapper.py:119] From /home/rishabh/anaconda3/envs/rl-env/lib/python3.7/site-packages/stable_baselines/common/input.py:25: The name tf.placeholder is deprecated. Please use tf.compat.v1.placeholder instead.\n",
      "\n",
      "W0814 21:31:29.516510 140328486889280 deprecation.py:323] From /home/rishabh/anaconda3/envs/rl-env/lib/python3.7/site-packages/stable_baselines/common/policies.py:562: flatten (from tensorflow.python.layers.core) is deprecated and will be removed in a future version.\n",
      "Instructions for updating:\n",
      "Use keras.layers.flatten instead.\n",
      "W0814 21:31:29.674781 140328486889280 deprecation_wrapper.py:119] From /home/rishabh/anaconda3/envs/rl-env/lib/python3.7/site-packages/stable_baselines/a2c/utils.py:156: The name tf.get_variable is deprecated. Please use tf.compat.v1.get_variable instead.\n",
      "\n",
      "W0814 21:31:29.881890 140328486889280 deprecation_wrapper.py:119] From /home/rishabh/anaconda3/envs/rl-env/lib/python3.7/site-packages/stable_baselines/ppo2/ppo2.py:193: The name tf.summary.scalar is deprecated. Please use tf.compat.v1.summary.scalar instead.\n",
      "\n",
      "W0814 21:31:29.912661 140328486889280 deprecation.py:323] From /home/rishabh/anaconda3/envs/rl-env/lib/python3.7/site-packages/tensorflow/python/ops/math_grad.py:1250: add_dispatch_support.<locals>.wrapper (from tensorflow.python.ops.array_ops) is deprecated and will be removed in a future version.\n",
      "Instructions for updating:\n",
      "Use tf.where in 2.0, which has the same broadcast rule as np.where\n",
      "W0814 21:31:30.112830 140328486889280 deprecation_wrapper.py:119] From /home/rishabh/anaconda3/envs/rl-env/lib/python3.7/site-packages/stable_baselines/ppo2/ppo2.py:209: The name tf.train.AdamOptimizer is deprecated. Please use tf.compat.v1.train.AdamOptimizer instead.\n",
      "\n",
      "W0814 21:31:31.933941 140328486889280 deprecation_wrapper.py:119] From /home/rishabh/anaconda3/envs/rl-env/lib/python3.7/site-packages/stable_baselines/ppo2/ppo2.py:245: The name tf.summary.merge_all is deprecated. Please use tf.compat.v1.summary.merge_all instead.\n",
      "\n"
     ]
    },
    {
     "data": {
      "text/plain": [
       "<stable_baselines.ppo2.ppo2.PPO2 at 0x7fa03a6b1588>"
      ]
     },
     "execution_count": 2,
     "metadata": {},
     "output_type": "execute_result"
    }
   ],
   "source": [
    "model_ppo2 = PPO2(MlpPolicy, env_cartpole, verbose=0)\n",
    "env_cartpole.reset()\n",
    "model_ppo2.learn(total_timesteps=25000)"
   ]
  },
  {
   "cell_type": "markdown",
   "metadata": {},
   "source": [
    "Time to evaluate! Cart-Pole-v1 is considered solved when avg reward over 100 episdoes is at least 195.0, so we'll use a sliding window over the episodes (and some fun renders) to get an idea of how well the agent performs."
   ]
  },
  {
   "cell_type": "code",
   "execution_count": 3,
   "metadata": {},
   "outputs": [],
   "source": [
    "import matplotlib.pyplot as plt\n",
    "import numpy as np"
   ]
  },
  {
   "cell_type": "code",
   "execution_count": 4,
   "metadata": {},
   "outputs": [],
   "source": [
    "def evaluate_model(model, env, num_eval_steps=25000, num_eval_episodes=100, render=True, plot=True):\n",
    "    obs = env.reset()\n",
    "    episode_durations = []\n",
    "    current_duration = 0\n",
    "    for i in range(num_eval_steps):\n",
    "        if len(episode_durations) == num_eval_episodes:\n",
    "                break\n",
    "        action, _states = model.predict(obs)\n",
    "        obs, reward, done, _ = env.step(action)\n",
    "        current_duration += reward[0]\n",
    "        if done[0] == 1:\n",
    "            episode_durations.append(current_duration)\n",
    "            current_duration = 0\n",
    "            obs = env.reset()\n",
    "        if render:\n",
    "            env.render()\n",
    "        \n",
    "    return episode_durations"
   ]
  },
  {
   "cell_type": "code",
   "execution_count": 5,
   "metadata": {},
   "outputs": [
    {
     "name": "stdout",
     "output_type": "stream",
     "text": [
      "Mean returns: 201.9\n"
     ]
    }
   ],
   "source": [
    "returns_ppo2 = evaluate_model(model_ppo2, env_cartpole, render=False)\n",
    "print(\"Mean returns:\", np.mean(returns_ppo2))"
   ]
  },
  {
   "cell_type": "markdown",
   "metadata": {},
   "source": [
    "Looks like that went pretty well, so let's try seeing how reducing the number of steps trained affects the agent."
   ]
  },
  {
   "cell_type": "code",
   "execution_count": 12,
   "metadata": {},
   "outputs": [],
   "source": [
    "num_steps_to_train_ppo2 = [0, 10, 100, 500, 1000, 5000, 10_000, 25_000]\n",
    "mean_rewards_ppo2 = []\n",
    "for steps in num_steps_to_train_ppo2:\n",
    "    curr_model_ppo2 = PPO2(MlpPolicy, env_cartpole, verbose=0)\n",
    "    curr_model_ppo2.learn(total_timesteps=steps)\n",
    "    mean_rewards_ppo2.append(np.mean(evaluate_model(curr_model_ppo2, env_cartpole, render=False)))"
   ]
  },
  {
   "cell_type": "code",
   "execution_count": 13,
   "metadata": {},
   "outputs": [
    {
     "data": {
      "image/png": "[encoded data removed]",
      "text/plain": [
       "<Figure size 432x288 with 1 Axes>"
      ]
     },
     "metadata": {
      "needs_background": "light"
     },
     "output_type": "display_data"
    }
   ],
   "source": [
    "plt.plot(num_steps_to_train_ppo2, mean_rewards_ppo2)\n",
    "plt.show()"
   ]
  },
  {
   "cell_type": "markdown",
   "metadata": {},
   "source": [
    "Seems we can get away with 10,000 of training using PPO2 for CarPole-V1. I'm interested to see how it compares to DQN."
   ]
  },
  {
   "cell_type": "code",
   "execution_count": 8,
   "metadata": {},
   "outputs": [],
   "source": [
    "from stable_baselines import DQN\n",
    "from stable_baselines.deepq import MlpPolicy as MlpPolicyDQN"
   ]
  },
  {
   "cell_type": "code",
   "execution_count": 9,
   "metadata": {},
   "outputs": [],
   "source": [
    "num_steps_to_train_dqn = [0, 10, 100, 500, 1000, 5000, 10_000, 25_000]\n",
    "mean_rewards_dqn = []\n",
    "for steps in num_steps_to_train_dqn:\n",
    "    curr_model_dqn = DQN(MlpPolicyDQN, env_cartpole, verbose=0)\n",
    "    curr_model_dqn.learn(total_timesteps=steps)\n",
    "    mean_rewards_dqn.append(np.mean(evaluate_model(curr_model_dqn, env_cartpole, render=False)))"
   ]
  },
  {
   "cell_type": "code",
   "execution_count": 11,
   "metadata": {},
   "outputs": [
    {
     "data": {
      "image/png": "[encoded data removed]",
      "text/plain": [
       "<Figure size 432x288 with 1 Axes>"
      ]
     },
     "metadata": {
      "needs_background": "light"
     },
     "output_type": "display_data"
    }
   ],
   "source": [
    "plt.plot(num_steps_to_train_dqn, mean_rewards_dqn)\n",
    "plt.show()"
   ]
  },
  {
   "cell_type": "markdown",
   "metadata": {},
   "source": [
    "The DQN performed much better before it seemingly overfit. I'm sure both of these methods could have even better results with some hyperparameter tuning, but we're just trying to get a feel for things for now."
   ]
  }
 ],
 "metadata": {
  "kernelspec": {
   "display_name": "Python 3",
   "language": "python",
   "name": "python3"
  },
  "language_info": {
   "codemirror_mode": {
    "name": "ipython",
    "version": 3
   },
   "file_extension": ".py",
   "mimetype": "text/x-python",
   "name": "python",
   "nbconvert_exporter": "python",
   "pygments_lexer": "ipython3",
   "version": "3.7.3"
  }
 },
 "nbformat": 4,
 "nbformat_minor": 2
}
